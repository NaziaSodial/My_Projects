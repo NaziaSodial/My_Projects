{
  "nbformat": 4,
  "nbformat_minor": 0,
  "metadata": {
    "colab": {
      "name": "Convolutional Neural Network.ipynb",
      "provenance": [],
      "collapsed_sections": []
    },
    "kernelspec": {
      "name": "python3",
      "display_name": "Python 3"
    },
    "language_info": {
      "name": "python"
    },
    "widgets": {
      "application/vnd.jupyter.widget-state+json": {
        "5562b11ac4294787b1051d58e26aec9f": {
          "model_module": "@jupyter-widgets/controls",
          "model_name": "HBoxModel",
          "model_module_version": "1.5.0",
          "state": {
            "_dom_classes": [],
            "_model_module": "@jupyter-widgets/controls",
            "_model_module_version": "1.5.0",
            "_model_name": "HBoxModel",
            "_view_count": null,
            "_view_module": "@jupyter-widgets/controls",
            "_view_module_version": "1.5.0",
            "_view_name": "HBoxView",
            "box_style": "",
            "children": [
              "IPY_MODEL_40433d35d2bd45b9aed77158c5618420",
              "IPY_MODEL_5c16936716404eef989d8a868aea0552",
              "IPY_MODEL_bba49a247fec42cebc16b1770f0fb60b"
            ],
            "layout": "IPY_MODEL_fa92221ce2604835af48c632ce8bf14d"
          }
        },
        "40433d35d2bd45b9aed77158c5618420": {
          "model_module": "@jupyter-widgets/controls",
          "model_name": "HTMLModel",
          "model_module_version": "1.5.0",
          "state": {
            "_dom_classes": [],
            "_model_module": "@jupyter-widgets/controls",
            "_model_module_version": "1.5.0",
            "_model_name": "HTMLModel",
            "_view_count": null,
            "_view_module": "@jupyter-widgets/controls",
            "_view_module_version": "1.5.0",
            "_view_name": "HTMLView",
            "description": "",
            "description_tooltip": null,
            "layout": "IPY_MODEL_3f9c821814d04db788de0ba2bf739a3c",
            "placeholder": "​",
            "style": "IPY_MODEL_36c1367de3a34ac8b4a07211e45198b2",
            "value": "100%"
          }
        },
        "5c16936716404eef989d8a868aea0552": {
          "model_module": "@jupyter-widgets/controls",
          "model_name": "FloatProgressModel",
          "model_module_version": "1.5.0",
          "state": {
            "_dom_classes": [],
            "_model_module": "@jupyter-widgets/controls",
            "_model_module_version": "1.5.0",
            "_model_name": "FloatProgressModel",
            "_view_count": null,
            "_view_module": "@jupyter-widgets/controls",
            "_view_module_version": "1.5.0",
            "_view_name": "ProgressView",
            "bar_style": "success",
            "description": "",
            "description_tooltip": null,
            "layout": "IPY_MODEL_b222cdd4c8ec4658ad9b7c07a157efb0",
            "max": 244408911,
            "min": 0,
            "orientation": "horizontal",
            "style": "IPY_MODEL_a38e5b77137f4ca0bd21bb079780000a",
            "value": 244408911
          }
        },
        "bba49a247fec42cebc16b1770f0fb60b": {
          "model_module": "@jupyter-widgets/controls",
          "model_name": "HTMLModel",
          "model_module_version": "1.5.0",
          "state": {
            "_dom_classes": [],
            "_model_module": "@jupyter-widgets/controls",
            "_model_module_version": "1.5.0",
            "_model_name": "HTMLModel",
            "_view_count": null,
            "_view_module": "@jupyter-widgets/controls",
            "_view_module_version": "1.5.0",
            "_view_name": "HTMLView",
            "description": "",
            "description_tooltip": null,
            "layout": "IPY_MODEL_52c4d4172b804c8bae424604e347af9d",
            "placeholder": "​",
            "style": "IPY_MODEL_4901de7a0db64d059d128a1beeb9642d",
            "value": " 233M/233M [00:15&lt;00:00, 10.8MB/s]"
          }
        },
        "fa92221ce2604835af48c632ce8bf14d": {
          "model_module": "@jupyter-widgets/base",
          "model_name": "LayoutModel",
          "model_module_version": "1.2.0",
          "state": {
            "_model_module": "@jupyter-widgets/base",
            "_model_module_version": "1.2.0",
            "_model_name": "LayoutModel",
            "_view_count": null,
            "_view_module": "@jupyter-widgets/base",
            "_view_module_version": "1.2.0",
            "_view_name": "LayoutView",
            "align_content": null,
            "align_items": null,
            "align_self": null,
            "border": null,
            "bottom": null,
            "display": null,
            "flex": null,
            "flex_flow": null,
            "grid_area": null,
            "grid_auto_columns": null,
            "grid_auto_flow": null,
            "grid_auto_rows": null,
            "grid_column": null,
            "grid_gap": null,
            "grid_row": null,
            "grid_template_areas": null,
            "grid_template_columns": null,
            "grid_template_rows": null,
            "height": null,
            "justify_content": null,
            "justify_items": null,
            "left": null,
            "margin": null,
            "max_height": null,
            "max_width": null,
            "min_height": null,
            "min_width": null,
            "object_fit": null,
            "object_position": null,
            "order": null,
            "overflow": null,
            "overflow_x": null,
            "overflow_y": null,
            "padding": null,
            "right": null,
            "top": null,
            "visibility": null,
            "width": null
          }
        },
        "3f9c821814d04db788de0ba2bf739a3c": {
          "model_module": "@jupyter-widgets/base",
          "model_name": "LayoutModel",
          "model_module_version": "1.2.0",
          "state": {
            "_model_module": "@jupyter-widgets/base",
            "_model_module_version": "1.2.0",
            "_model_name": "LayoutModel",
            "_view_count": null,
            "_view_module": "@jupyter-widgets/base",
            "_view_module_version": "1.2.0",
            "_view_name": "LayoutView",
            "align_content": null,
            "align_items": null,
            "align_self": null,
            "border": null,
            "bottom": null,
            "display": null,
            "flex": null,
            "flex_flow": null,
            "grid_area": null,
            "grid_auto_columns": null,
            "grid_auto_flow": null,
            "grid_auto_rows": null,
            "grid_column": null,
            "grid_gap": null,
            "grid_row": null,
            "grid_template_areas": null,
            "grid_template_columns": null,
            "grid_template_rows": null,
            "height": null,
            "justify_content": null,
            "justify_items": null,
            "left": null,
            "margin": null,
            "max_height": null,
            "max_width": null,
            "min_height": null,
            "min_width": null,
            "object_fit": null,
            "object_position": null,
            "order": null,
            "overflow": null,
            "overflow_x": null,
            "overflow_y": null,
            "padding": null,
            "right": null,
            "top": null,
            "visibility": null,
            "width": null
          }
        },
        "36c1367de3a34ac8b4a07211e45198b2": {
          "model_module": "@jupyter-widgets/controls",
          "model_name": "DescriptionStyleModel",
          "model_module_version": "1.5.0",
          "state": {
            "_model_module": "@jupyter-widgets/controls",
            "_model_module_version": "1.5.0",
            "_model_name": "DescriptionStyleModel",
            "_view_count": null,
            "_view_module": "@jupyter-widgets/base",
            "_view_module_version": "1.2.0",
            "_view_name": "StyleView",
            "description_width": ""
          }
        },
        "b222cdd4c8ec4658ad9b7c07a157efb0": {
          "model_module": "@jupyter-widgets/base",
          "model_name": "LayoutModel",
          "model_module_version": "1.2.0",
          "state": {
            "_model_module": "@jupyter-widgets/base",
            "_model_module_version": "1.2.0",
            "_model_name": "LayoutModel",
            "_view_count": null,
            "_view_module": "@jupyter-widgets/base",
            "_view_module_version": "1.2.0",
            "_view_name": "LayoutView",
            "align_content": null,
            "align_items": null,
            "align_self": null,
            "border": null,
            "bottom": null,
            "display": null,
            "flex": null,
            "flex_flow": null,
            "grid_area": null,
            "grid_auto_columns": null,
            "grid_auto_flow": null,
            "grid_auto_rows": null,
            "grid_column": null,
            "grid_gap": null,
            "grid_row": null,
            "grid_template_areas": null,
            "grid_template_columns": null,
            "grid_template_rows": null,
            "height": null,
            "justify_content": null,
            "justify_items": null,
            "left": null,
            "margin": null,
            "max_height": null,
            "max_width": null,
            "min_height": null,
            "min_width": null,
            "object_fit": null,
            "object_position": null,
            "order": null,
            "overflow": null,
            "overflow_x": null,
            "overflow_y": null,
            "padding": null,
            "right": null,
            "top": null,
            "visibility": null,
            "width": null
          }
        },
        "a38e5b77137f4ca0bd21bb079780000a": {
          "model_module": "@jupyter-widgets/controls",
          "model_name": "ProgressStyleModel",
          "model_module_version": "1.5.0",
          "state": {
            "_model_module": "@jupyter-widgets/controls",
            "_model_module_version": "1.5.0",
            "_model_name": "ProgressStyleModel",
            "_view_count": null,
            "_view_module": "@jupyter-widgets/base",
            "_view_module_version": "1.2.0",
            "_view_name": "StyleView",
            "bar_color": null,
            "description_width": ""
          }
        },
        "52c4d4172b804c8bae424604e347af9d": {
          "model_module": "@jupyter-widgets/base",
          "model_name": "LayoutModel",
          "model_module_version": "1.2.0",
          "state": {
            "_model_module": "@jupyter-widgets/base",
            "_model_module_version": "1.2.0",
            "_model_name": "LayoutModel",
            "_view_count": null,
            "_view_module": "@jupyter-widgets/base",
            "_view_module_version": "1.2.0",
            "_view_name": "LayoutView",
            "align_content": null,
            "align_items": null,
            "align_self": null,
            "border": null,
            "bottom": null,
            "display": null,
            "flex": null,
            "flex_flow": null,
            "grid_area": null,
            "grid_auto_columns": null,
            "grid_auto_flow": null,
            "grid_auto_rows": null,
            "grid_column": null,
            "grid_gap": null,
            "grid_row": null,
            "grid_template_areas": null,
            "grid_template_columns": null,
            "grid_template_rows": null,
            "height": null,
            "justify_content": null,
            "justify_items": null,
            "left": null,
            "margin": null,
            "max_height": null,
            "max_width": null,
            "min_height": null,
            "min_width": null,
            "object_fit": null,
            "object_position": null,
            "order": null,
            "overflow": null,
            "overflow_x": null,
            "overflow_y": null,
            "padding": null,
            "right": null,
            "top": null,
            "visibility": null,
            "width": null
          }
        },
        "4901de7a0db64d059d128a1beeb9642d": {
          "model_module": "@jupyter-widgets/controls",
          "model_name": "DescriptionStyleModel",
          "model_module_version": "1.5.0",
          "state": {
            "_model_module": "@jupyter-widgets/controls",
            "_model_module_version": "1.5.0",
            "_model_name": "DescriptionStyleModel",
            "_view_count": null,
            "_view_module": "@jupyter-widgets/base",
            "_view_module_version": "1.2.0",
            "_view_name": "StyleView",
            "description_width": ""
          }
        },
        "dd690b8a8e744a43b167923e1c54027c": {
          "model_module": "@jupyter-widgets/controls",
          "model_name": "HBoxModel",
          "model_module_version": "1.5.0",
          "state": {
            "_dom_classes": [],
            "_model_module": "@jupyter-widgets/controls",
            "_model_module_version": "1.5.0",
            "_model_name": "HBoxModel",
            "_view_count": null,
            "_view_module": "@jupyter-widgets/controls",
            "_view_module_version": "1.5.0",
            "_view_name": "HBoxView",
            "box_style": "",
            "children": [
              "IPY_MODEL_be9c62dc2af34aef8a174868d7cc5051",
              "IPY_MODEL_bffbc1b6dfe841ff8dc02ef5f344d160",
              "IPY_MODEL_54ced09a19754d4a9ed0453ca23e18de"
            ],
            "layout": "IPY_MODEL_880096f183ed45419016b70026c5a0bc"
          }
        },
        "be9c62dc2af34aef8a174868d7cc5051": {
          "model_module": "@jupyter-widgets/controls",
          "model_name": "HTMLModel",
          "model_module_version": "1.5.0",
          "state": {
            "_dom_classes": [],
            "_model_module": "@jupyter-widgets/controls",
            "_model_module_version": "1.5.0",
            "_model_name": "HTMLModel",
            "_view_count": null,
            "_view_module": "@jupyter-widgets/controls",
            "_view_module_version": "1.5.0",
            "_view_name": "HTMLView",
            "description": "",
            "description_tooltip": null,
            "layout": "IPY_MODEL_bd07a01409844cf2ad0bc54fb7d6dc82",
            "placeholder": "​",
            "style": "IPY_MODEL_6af2af1ccb4d43a5adf4df747fb5e29b",
            "value": "100%"
          }
        },
        "bffbc1b6dfe841ff8dc02ef5f344d160": {
          "model_module": "@jupyter-widgets/controls",
          "model_name": "FloatProgressModel",
          "model_module_version": "1.5.0",
          "state": {
            "_dom_classes": [],
            "_model_module": "@jupyter-widgets/controls",
            "_model_module_version": "1.5.0",
            "_model_name": "FloatProgressModel",
            "_view_count": null,
            "_view_module": "@jupyter-widgets/controls",
            "_view_module_version": "1.5.0",
            "_view_name": "ProgressView",
            "bar_style": "success",
            "description": "",
            "description_tooltip": null,
            "layout": "IPY_MODEL_39557990f4b8454e8431aedf158e7642",
            "max": 553433881,
            "min": 0,
            "orientation": "horizontal",
            "style": "IPY_MODEL_1d27257cc3be46ff99ca88ac9404d421",
            "value": 553433881
          }
        },
        "54ced09a19754d4a9ed0453ca23e18de": {
          "model_module": "@jupyter-widgets/controls",
          "model_name": "HTMLModel",
          "model_module_version": "1.5.0",
          "state": {
            "_dom_classes": [],
            "_model_module": "@jupyter-widgets/controls",
            "_model_module_version": "1.5.0",
            "_model_name": "HTMLModel",
            "_view_count": null,
            "_view_module": "@jupyter-widgets/controls",
            "_view_module_version": "1.5.0",
            "_view_name": "HTMLView",
            "description": "",
            "description_tooltip": null,
            "layout": "IPY_MODEL_87dbb4f19d4747e5a82bc75462a05ca1",
            "placeholder": "​",
            "style": "IPY_MODEL_acc416a2f3494b78b98ed82885421f84",
            "value": " 528M/528M [00:13&lt;00:00, 35.8MB/s]"
          }
        },
        "880096f183ed45419016b70026c5a0bc": {
          "model_module": "@jupyter-widgets/base",
          "model_name": "LayoutModel",
          "model_module_version": "1.2.0",
          "state": {
            "_model_module": "@jupyter-widgets/base",
            "_model_module_version": "1.2.0",
            "_model_name": "LayoutModel",
            "_view_count": null,
            "_view_module": "@jupyter-widgets/base",
            "_view_module_version": "1.2.0",
            "_view_name": "LayoutView",
            "align_content": null,
            "align_items": null,
            "align_self": null,
            "border": null,
            "bottom": null,
            "display": null,
            "flex": null,
            "flex_flow": null,
            "grid_area": null,
            "grid_auto_columns": null,
            "grid_auto_flow": null,
            "grid_auto_rows": null,
            "grid_column": null,
            "grid_gap": null,
            "grid_row": null,
            "grid_template_areas": null,
            "grid_template_columns": null,
            "grid_template_rows": null,
            "height": null,
            "justify_content": null,
            "justify_items": null,
            "left": null,
            "margin": null,
            "max_height": null,
            "max_width": null,
            "min_height": null,
            "min_width": null,
            "object_fit": null,
            "object_position": null,
            "order": null,
            "overflow": null,
            "overflow_x": null,
            "overflow_y": null,
            "padding": null,
            "right": null,
            "top": null,
            "visibility": null,
            "width": null
          }
        },
        "bd07a01409844cf2ad0bc54fb7d6dc82": {
          "model_module": "@jupyter-widgets/base",
          "model_name": "LayoutModel",
          "model_module_version": "1.2.0",
          "state": {
            "_model_module": "@jupyter-widgets/base",
            "_model_module_version": "1.2.0",
            "_model_name": "LayoutModel",
            "_view_count": null,
            "_view_module": "@jupyter-widgets/base",
            "_view_module_version": "1.2.0",
            "_view_name": "LayoutView",
            "align_content": null,
            "align_items": null,
            "align_self": null,
            "border": null,
            "bottom": null,
            "display": null,
            "flex": null,
            "flex_flow": null,
            "grid_area": null,
            "grid_auto_columns": null,
            "grid_auto_flow": null,
            "grid_auto_rows": null,
            "grid_column": null,
            "grid_gap": null,
            "grid_row": null,
            "grid_template_areas": null,
            "grid_template_columns": null,
            "grid_template_rows": null,
            "height": null,
            "justify_content": null,
            "justify_items": null,
            "left": null,
            "margin": null,
            "max_height": null,
            "max_width": null,
            "min_height": null,
            "min_width": null,
            "object_fit": null,
            "object_position": null,
            "order": null,
            "overflow": null,
            "overflow_x": null,
            "overflow_y": null,
            "padding": null,
            "right": null,
            "top": null,
            "visibility": null,
            "width": null
          }
        },
        "6af2af1ccb4d43a5adf4df747fb5e29b": {
          "model_module": "@jupyter-widgets/controls",
          "model_name": "DescriptionStyleModel",
          "model_module_version": "1.5.0",
          "state": {
            "_model_module": "@jupyter-widgets/controls",
            "_model_module_version": "1.5.0",
            "_model_name": "DescriptionStyleModel",
            "_view_count": null,
            "_view_module": "@jupyter-widgets/base",
            "_view_module_version": "1.2.0",
            "_view_name": "StyleView",
            "description_width": ""
          }
        },
        "39557990f4b8454e8431aedf158e7642": {
          "model_module": "@jupyter-widgets/base",
          "model_name": "LayoutModel",
          "model_module_version": "1.2.0",
          "state": {
            "_model_module": "@jupyter-widgets/base",
            "_model_module_version": "1.2.0",
            "_model_name": "LayoutModel",
            "_view_count": null,
            "_view_module": "@jupyter-widgets/base",
            "_view_module_version": "1.2.0",
            "_view_name": "LayoutView",
            "align_content": null,
            "align_items": null,
            "align_self": null,
            "border": null,
            "bottom": null,
            "display": null,
            "flex": null,
            "flex_flow": null,
            "grid_area": null,
            "grid_auto_columns": null,
            "grid_auto_flow": null,
            "grid_auto_rows": null,
            "grid_column": null,
            "grid_gap": null,
            "grid_row": null,
            "grid_template_areas": null,
            "grid_template_columns": null,
            "grid_template_rows": null,
            "height": null,
            "justify_content": null,
            "justify_items": null,
            "left": null,
            "margin": null,
            "max_height": null,
            "max_width": null,
            "min_height": null,
            "min_width": null,
            "object_fit": null,
            "object_position": null,
            "order": null,
            "overflow": null,
            "overflow_x": null,
            "overflow_y": null,
            "padding": null,
            "right": null,
            "top": null,
            "visibility": null,
            "width": null
          }
        },
        "1d27257cc3be46ff99ca88ac9404d421": {
          "model_module": "@jupyter-widgets/controls",
          "model_name": "ProgressStyleModel",
          "model_module_version": "1.5.0",
          "state": {
            "_model_module": "@jupyter-widgets/controls",
            "_model_module_version": "1.5.0",
            "_model_name": "ProgressStyleModel",
            "_view_count": null,
            "_view_module": "@jupyter-widgets/base",
            "_view_module_version": "1.2.0",
            "_view_name": "StyleView",
            "bar_color": null,
            "description_width": ""
          }
        },
        "87dbb4f19d4747e5a82bc75462a05ca1": {
          "model_module": "@jupyter-widgets/base",
          "model_name": "LayoutModel",
          "model_module_version": "1.2.0",
          "state": {
            "_model_module": "@jupyter-widgets/base",
            "_model_module_version": "1.2.0",
            "_model_name": "LayoutModel",
            "_view_count": null,
            "_view_module": "@jupyter-widgets/base",
            "_view_module_version": "1.2.0",
            "_view_name": "LayoutView",
            "align_content": null,
            "align_items": null,
            "align_self": null,
            "border": null,
            "bottom": null,
            "display": null,
            "flex": null,
            "flex_flow": null,
            "grid_area": null,
            "grid_auto_columns": null,
            "grid_auto_flow": null,
            "grid_auto_rows": null,
            "grid_column": null,
            "grid_gap": null,
            "grid_row": null,
            "grid_template_areas": null,
            "grid_template_columns": null,
            "grid_template_rows": null,
            "height": null,
            "justify_content": null,
            "justify_items": null,
            "left": null,
            "margin": null,
            "max_height": null,
            "max_width": null,
            "min_height": null,
            "min_width": null,
            "object_fit": null,
            "object_position": null,
            "order": null,
            "overflow": null,
            "overflow_x": null,
            "overflow_y": null,
            "padding": null,
            "right": null,
            "top": null,
            "visibility": null,
            "width": null
          }
        },
        "acc416a2f3494b78b98ed82885421f84": {
          "model_module": "@jupyter-widgets/controls",
          "model_name": "DescriptionStyleModel",
          "model_module_version": "1.5.0",
          "state": {
            "_model_module": "@jupyter-widgets/controls",
            "_model_module_version": "1.5.0",
            "_model_name": "DescriptionStyleModel",
            "_view_count": null,
            "_view_module": "@jupyter-widgets/base",
            "_view_module_version": "1.2.0",
            "_view_name": "StyleView",
            "description_width": ""
          }
        }
      }
    }
  },
  "cells": [
    {
      "cell_type": "markdown",
      "source": [
        "**THIS NOTEBOOK CONSISTS THE CODE FOR CNN (NET,ALEXNET & VGG16)**"
      ],
      "metadata": {
        "id": "_03If182kg3b"
      }
    },
    {
      "cell_type": "markdown",
      "source": [
        "Setting up Colab"
      ],
      "metadata": {
        "id": "XHqnezTFCqWT"
      }
    },
    {
      "cell_type": "code",
      "execution_count": null,
      "metadata": {
        "colab": {
          "base_uri": "https://localhost:8080/"
        },
        "id": "qLq_vF-22Xjl",
        "outputId": "47fb9dd0-eba0-4b58-9fca-1c563b6db0b4"
      },
      "outputs": [
        {
          "output_type": "stream",
          "name": "stdout",
          "text": [
            "Mounted at /content/drive\n"
          ]
        }
      ],
      "source": [
        "from google.colab import drive\n",
        "drive.mount('/content/drive')"
      ]
    },
    {
      "cell_type": "markdown",
      "source": [
        "Installing OpenCV"
      ],
      "metadata": {
        "id": "JhPh_yIICtgD"
      }
    },
    {
      "cell_type": "code",
      "source": [
        "!pip install opencv-python==4.5.5.64"
      ],
      "metadata": {
        "colab": {
          "base_uri": "https://localhost:8080/"
        },
        "id": "6tMKTtSzXrC0",
        "outputId": "ef81abec-b485-41aa-fc3a-fa701a013c08"
      },
      "execution_count": null,
      "outputs": [
        {
          "output_type": "stream",
          "name": "stdout",
          "text": [
            "Collecting opencv-python==4.5.5.64\n",
            "  Downloading opencv_python-4.5.5.64-cp36-abi3-manylinux_2_17_x86_64.manylinux2014_x86_64.whl (60.5 MB)\n",
            "\u001b[K     |████████████████████████████████| 60.5 MB 1.2 MB/s \n",
            "\u001b[?25hRequirement already satisfied: numpy>=1.14.5 in /usr/local/lib/python3.7/dist-packages (from opencv-python==4.5.5.64) (1.21.6)\n",
            "Installing collected packages: opencv-python\n",
            "  Attempting uninstall: opencv-python\n",
            "    Found existing installation: opencv-python 4.1.2.30\n",
            "    Uninstalling opencv-python-4.1.2.30:\n",
            "      Successfully uninstalled opencv-python-4.1.2.30\n",
            "\u001b[31mERROR: pip's dependency resolver does not currently take into account all the packages that are installed. This behaviour is the source of the following dependency conflicts.\n",
            "albumentations 0.1.12 requires imgaug<0.2.7,>=0.2.5, but you have imgaug 0.2.9 which is incompatible.\u001b[0m\n",
            "Successfully installed opencv-python-4.5.5.64\n"
          ]
        }
      ]
    },
    {
      "cell_type": "markdown",
      "source": [
        "Checking the version of OpenCV"
      ],
      "metadata": {
        "id": "RyPY1SzTCzST"
      }
    },
    {
      "cell_type": "code",
      "source": [
        "!pip show opencv-python"
      ],
      "metadata": {
        "colab": {
          "base_uri": "https://localhost:8080/"
        },
        "id": "We75KknZXwvx",
        "outputId": "6ca59a1e-da79-4ec7-9fad-411942319732"
      },
      "execution_count": null,
      "outputs": [
        {
          "output_type": "stream",
          "name": "stdout",
          "text": [
            "Name: opencv-python\n",
            "Version: 4.5.5.64\n",
            "Summary: Wrapper package for OpenCV python bindings.\n",
            "Home-page: https://github.com/skvark/opencv-python\n",
            "Author: None\n",
            "Author-email: None\n",
            "License: MIT\n",
            "Location: /usr/local/lib/python3.7/dist-packages\n",
            "Requires: numpy\n",
            "Required-by: imgaug, dopamine-rl, albumentations\n"
          ]
        }
      ]
    },
    {
      "cell_type": "markdown",
      "source": [
        "Path for the code folder"
      ],
      "metadata": {
        "id": "4uwiPv_fC0Tb"
      }
    },
    {
      "cell_type": "code",
      "source": [
        "import os\n",
        "\n",
        "GOOGLE_DRIVE_PATH_AFTER_MYDRIVE_CODE = 'Colab Notebooks/Computer Vision/CW_Folder_PG/CW_Folder_PG/Code' \n",
        "GOOGLE_DRIVE_PATH_CODE = os.path.join('drive', 'My Drive', GOOGLE_DRIVE_PATH_AFTER_MYDRIVE_CODE)\n",
        "print(os.listdir(GOOGLE_DRIVE_PATH_CODE))"
      ],
      "metadata": {
        "colab": {
          "base_uri": "https://localhost:8080/"
        },
        "id": "3glM-qXQ-pY6",
        "outputId": "78aa7665-6735-431c-da9e-25ccf21b02a8"
      },
      "execution_count": null,
      "outputs": [
        {
          "output_type": "stream",
          "name": "stdout",
          "text": [
            "['Copy of 200033033 Computer Vision Coursework.ipynb', 'Copy of Untitled6.ipynb', '200033033 Computer Vision Coursework.ipynb', 'CNN.ipynb', 'AlexNet.ipynb', 'Copy of Emotion recognition Video.ipynb', 'Emotion recognition Video_part 1.ipynb', 'Copy of Convolutional Neural Network.ipynb', 'Convolutional Neural Network.ipynb', 'Copy of Emotion recognition Video_part 1.ipynb', '200033033 Convolutional Neural Network.ipynb']\n"
          ]
        }
      ]
    },
    {
      "cell_type": "markdown",
      "source": [
        "Path for the code folder"
      ],
      "metadata": {
        "id": "pp1xKwYEC3LL"
      }
    },
    {
      "cell_type": "code",
      "source": [
        "import os\n",
        "\n",
        "GOOGLE_DRIVE_PATH_AFTER_MYDRIVE_DATA = 'Colab Notebooks/Computer Vision/CW_Folder_PG/CW_Folder_PG/CW_Dataset' \n",
        "GOOGLE_DRIVE_PATH_DATA = os.path.join('drive', 'My Drive', GOOGLE_DRIVE_PATH_AFTER_MYDRIVE_DATA)\n",
        "print(os.listdir(GOOGLE_DRIVE_PATH_DATA))"
      ],
      "metadata": {
        "colab": {
          "base_uri": "https://localhost:8080/"
        },
        "id": "DBMzZzaQ-p6P",
        "outputId": "2a5c6f78-9520-4d2e-fbaa-b9b34b063fff"
      },
      "execution_count": null,
      "outputs": [
        {
          "output_type": "stream",
          "name": "stdout",
          "text": [
            "['CW_Dataset.zip']\n"
          ]
        }
      ]
    },
    {
      "cell_type": "markdown",
      "source": [
        "Coping and unziping the data directly in Colab server. This makes accessing the data faster."
      ],
      "metadata": {
        "id": "aAVyHrUSC6uc"
      }
    },
    {
      "cell_type": "code",
      "source": [
        "# Identify path to zipped dataset\n",
        "zip_path = os.path.join(GOOGLE_DRIVE_PATH_DATA, 'CW_Dataset.zip')\n",
        "\n",
        "# Copy it to Colab\n",
        "!cp '{zip_path}' .\n",
        "\n",
        "# Unzip it\n",
        "!yes|unzip -q CW_Dataset.zip\n",
        "\n",
        "# Delete zipped version from Colab (not from Drive)\n",
        "!rm CW_Dataset.zip"
      ],
      "metadata": {
        "id": "9cAHkLae-tdm"
      },
      "execution_count": null,
      "outputs": []
    },
    {
      "cell_type": "code",
      "source": [
        "# Reference - lab 8\n",
        "import torch\n",
        "device = torch.device(\"cuda:0\" if torch.cuda.is_available() else \"cpu\")\n",
        "\n",
        "# Assuming that we are on a CUDA machine, this should print a CUDA device:\n",
        "print(device)"
      ],
      "metadata": {
        "colab": {
          "base_uri": "https://localhost:8080/"
        },
        "id": "KHDmehtJVB-a",
        "outputId": "d90af313-1659-4dc1-fde6-ca494ed4f8fc"
      },
      "execution_count": null,
      "outputs": [
        {
          "output_type": "stream",
          "name": "stdout",
          "text": [
            "cuda:0\n"
          ]
        }
      ]
    },
    {
      "cell_type": "markdown",
      "source": [
        "Importing major libraries"
      ],
      "metadata": {
        "id": "RC445hlYC8Wj"
      }
    },
    {
      "cell_type": "code",
      "source": [
        "import os\n",
        "import cv2\n",
        "import pandas as pd\n",
        "from sklearn.model_selection import train_test_split\n",
        "from skimage import img_as_ubyte, io, color\n",
        "from sklearn.cluster import MiniBatchKMeans\n",
        "from sklearn import svm, metrics\n",
        "import matplotlib.pyplot as plt\n",
        "import numpy as np\n",
        "from collections import Counter\n",
        "\n",
        "%matplotlib inline"
      ],
      "metadata": {
        "id": "Jd-3CeKtXjxr"
      },
      "execution_count": null,
      "outputs": []
    },
    {
      "cell_type": "markdown",
      "source": [
        "Importing major pytorch libraries"
      ],
      "metadata": {
        "id": "_GqPI2k5DA-D"
      }
    },
    {
      "cell_type": "code",
      "source": [
        "import torch                                        # root package\n",
        "from torch.utils.data import Dataset, DataLoader, SubsetRandomSampler    # dataset representation and loading\n",
        "import torchvision\n",
        "from torchvision import models              # construct a model with random weights by calling its constructor\n",
        "import torch.optim as optim\n",
        "from torch.optim import lr_scheduler\n",
        "import torchvision.transforms as transforms # composable transforms\n",
        "import torch.autograd as autograd           # computation graph\n",
        "from torch import Tensor                    # tensor node in the computation graph\n",
        "import torch.nn as nn                       # neural networks\n",
        "import torch.nn.functional as F             # layers, activations and more\n",
        "import torch.optim as optim                 # optimizers e.g. gradient descent, ADAM, etc.\n",
        "from torch.jit import script, trace         # hybrid frontend decorator and tracing jit"
      ],
      "metadata": {
        "id": "SBHecDb-YLb5"
      },
      "execution_count": null,
      "outputs": []
    },
    {
      "cell_type": "markdown",
      "source": [
        "The data needs to be prepared to run it through data loader. Creating a function for scrubbing the data."
      ],
      "metadata": {
        "id": "S0JKt0A8ERA6"
      }
    },
    {
      "cell_type": "code",
      "source": [
        "def loading_data(path):\n",
        "  label_path = path\n",
        "  column_names = [\"Image_filename\", \"Labels\"]\n",
        "  label_df = pd.read_csv(label_path, names = column_names, delim_whitespace = True)\n",
        "  label_df[\"Image_filename\"] = label_df[\"Image_filename\"].apply(lambda i: i[:-4])\n",
        "  label_df[\"Image_filename\"] = label_df[\"Image_filename\"] + \"_aligned.jpg\"\n",
        "  # print(label_df.head())\n",
        "  return label_df"
      ],
      "metadata": {
        "id": "pKZuEVOXzuQY"
      },
      "execution_count": null,
      "outputs": []
    },
    {
      "cell_type": "code",
      "source": [
        "train_df = loading_data(\"/content/labels/list_label_train.txt\")\n",
        "test_df = loading_data(\"/content/labels/list_label_test.txt\")"
      ],
      "metadata": {
        "id": "bjqcZ4gbzvbG"
      },
      "execution_count": null,
      "outputs": []
    },
    {
      "cell_type": "code",
      "source": [
        "test_df.head()"
      ],
      "metadata": {
        "colab": {
          "base_uri": "https://localhost:8080/",
          "height": 206
        },
        "id": "QWEe5t-YEoz4",
        "outputId": "761eaac9-84fa-40ec-9461-923dc8c7789c"
      },
      "execution_count": null,
      "outputs": [
        {
          "output_type": "execute_result",
          "data": {
            "text/plain": [
              "          Image_filename  Labels\n",
              "0  test_0001_aligned.jpg       5\n",
              "1  test_0002_aligned.jpg       1\n",
              "2  test_0003_aligned.jpg       4\n",
              "3  test_0004_aligned.jpg       1\n",
              "4  test_0005_aligned.jpg       5"
            ],
            "text/html": [
              "\n",
              "  <div id=\"df-9fde4563-1288-4d78-838a-f7407f383c1e\">\n",
              "    <div class=\"colab-df-container\">\n",
              "      <div>\n",
              "<style scoped>\n",
              "    .dataframe tbody tr th:only-of-type {\n",
              "        vertical-align: middle;\n",
              "    }\n",
              "\n",
              "    .dataframe tbody tr th {\n",
              "        vertical-align: top;\n",
              "    }\n",
              "\n",
              "    .dataframe thead th {\n",
              "        text-align: right;\n",
              "    }\n",
              "</style>\n",
              "<table border=\"1\" class=\"dataframe\">\n",
              "  <thead>\n",
              "    <tr style=\"text-align: right;\">\n",
              "      <th></th>\n",
              "      <th>Image_filename</th>\n",
              "      <th>Labels</th>\n",
              "    </tr>\n",
              "  </thead>\n",
              "  <tbody>\n",
              "    <tr>\n",
              "      <th>0</th>\n",
              "      <td>test_0001_aligned.jpg</td>\n",
              "      <td>5</td>\n",
              "    </tr>\n",
              "    <tr>\n",
              "      <th>1</th>\n",
              "      <td>test_0002_aligned.jpg</td>\n",
              "      <td>1</td>\n",
              "    </tr>\n",
              "    <tr>\n",
              "      <th>2</th>\n",
              "      <td>test_0003_aligned.jpg</td>\n",
              "      <td>4</td>\n",
              "    </tr>\n",
              "    <tr>\n",
              "      <th>3</th>\n",
              "      <td>test_0004_aligned.jpg</td>\n",
              "      <td>1</td>\n",
              "    </tr>\n",
              "    <tr>\n",
              "      <th>4</th>\n",
              "      <td>test_0005_aligned.jpg</td>\n",
              "      <td>5</td>\n",
              "    </tr>\n",
              "  </tbody>\n",
              "</table>\n",
              "</div>\n",
              "      <button class=\"colab-df-convert\" onclick=\"convertToInteractive('df-9fde4563-1288-4d78-838a-f7407f383c1e')\"\n",
              "              title=\"Convert this dataframe to an interactive table.\"\n",
              "              style=\"display:none;\">\n",
              "        \n",
              "  <svg xmlns=\"http://www.w3.org/2000/svg\" height=\"24px\"viewBox=\"0 0 24 24\"\n",
              "       width=\"24px\">\n",
              "    <path d=\"M0 0h24v24H0V0z\" fill=\"none\"/>\n",
              "    <path d=\"M18.56 5.44l.94 2.06.94-2.06 2.06-.94-2.06-.94-.94-2.06-.94 2.06-2.06.94zm-11 1L8.5 8.5l.94-2.06 2.06-.94-2.06-.94L8.5 2.5l-.94 2.06-2.06.94zm10 10l.94 2.06.94-2.06 2.06-.94-2.06-.94-.94-2.06-.94 2.06-2.06.94z\"/><path d=\"M17.41 7.96l-1.37-1.37c-.4-.4-.92-.59-1.43-.59-.52 0-1.04.2-1.43.59L10.3 9.45l-7.72 7.72c-.78.78-.78 2.05 0 2.83L4 21.41c.39.39.9.59 1.41.59.51 0 1.02-.2 1.41-.59l7.78-7.78 2.81-2.81c.8-.78.8-2.07 0-2.86zM5.41 20L4 18.59l7.72-7.72 1.47 1.35L5.41 20z\"/>\n",
              "  </svg>\n",
              "      </button>\n",
              "      \n",
              "  <style>\n",
              "    .colab-df-container {\n",
              "      display:flex;\n",
              "      flex-wrap:wrap;\n",
              "      gap: 12px;\n",
              "    }\n",
              "\n",
              "    .colab-df-convert {\n",
              "      background-color: #E8F0FE;\n",
              "      border: none;\n",
              "      border-radius: 50%;\n",
              "      cursor: pointer;\n",
              "      display: none;\n",
              "      fill: #1967D2;\n",
              "      height: 32px;\n",
              "      padding: 0 0 0 0;\n",
              "      width: 32px;\n",
              "    }\n",
              "\n",
              "    .colab-df-convert:hover {\n",
              "      background-color: #E2EBFA;\n",
              "      box-shadow: 0px 1px 2px rgba(60, 64, 67, 0.3), 0px 1px 3px 1px rgba(60, 64, 67, 0.15);\n",
              "      fill: #174EA6;\n",
              "    }\n",
              "\n",
              "    [theme=dark] .colab-df-convert {\n",
              "      background-color: #3B4455;\n",
              "      fill: #D2E3FC;\n",
              "    }\n",
              "\n",
              "    [theme=dark] .colab-df-convert:hover {\n",
              "      background-color: #434B5C;\n",
              "      box-shadow: 0px 1px 3px 1px rgba(0, 0, 0, 0.15);\n",
              "      filter: drop-shadow(0px 1px 2px rgba(0, 0, 0, 0.3));\n",
              "      fill: #FFFFFF;\n",
              "    }\n",
              "  </style>\n",
              "\n",
              "      <script>\n",
              "        const buttonEl =\n",
              "          document.querySelector('#df-9fde4563-1288-4d78-838a-f7407f383c1e button.colab-df-convert');\n",
              "        buttonEl.style.display =\n",
              "          google.colab.kernel.accessAllowed ? 'block' : 'none';\n",
              "\n",
              "        async function convertToInteractive(key) {\n",
              "          const element = document.querySelector('#df-9fde4563-1288-4d78-838a-f7407f383c1e');\n",
              "          const dataTable =\n",
              "            await google.colab.kernel.invokeFunction('convertToInteractive',\n",
              "                                                     [key], {});\n",
              "          if (!dataTable) return;\n",
              "\n",
              "          const docLinkHtml = 'Like what you see? Visit the ' +\n",
              "            '<a target=\"_blank\" href=https://colab.research.google.com/notebooks/data_table.ipynb>data table notebook</a>'\n",
              "            + ' to learn more about interactive tables.';\n",
              "          element.innerHTML = '';\n",
              "          dataTable['output_type'] = 'display_data';\n",
              "          await google.colab.output.renderOutput(dataTable, element);\n",
              "          const docLink = document.createElement('div');\n",
              "          docLink.innerHTML = docLinkHtml;\n",
              "          element.appendChild(docLink);\n",
              "        }\n",
              "      </script>\n",
              "    </div>\n",
              "  </div>\n",
              "  "
            ]
          },
          "metadata": {},
          "execution_count": 12
        }
      ]
    },
    {
      "cell_type": "code",
      "source": [
        "import os\n",
        "import pandas as pd\n",
        "from PIL import Image\n",
        "#from torchvision.io import read_image\n",
        "# Reference - https://pytorch.org/tutorials/beginner/basics/data_tutorial.html \n",
        "class CustomImageDataset(Dataset):\n",
        "    def __init__(self, annotations_file, img_dir, transform=None, target_transform=None):\n",
        "        self.img_labels = annotations_file\n",
        "        self.img_dir = img_dir\n",
        "        self.transform = transform\n",
        "        #self.target_transform = target_transform # commenting out as target doesn't require any transformation\n",
        "\n",
        "    def __len__(self):\n",
        "        return len(self.img_labels)\n",
        "\n",
        "    def __getitem__(self, idx):\n",
        "        if torch.is_tensor(idx): # https://discuss.pytorch.org/t/custom-dataset-weird-probelm/59278 \n",
        "          idx = idx.tolist()\n",
        "        \n",
        "        img_path = os.path.join(self.img_dir, self.img_labels.iloc[idx, 0])\n",
        "        image = Image.open(img_path) # opens and identifies the given image. Reference - https://www.geeksforgeeks.org/python-pil-image-open-method/ \n",
        "        label = self.img_labels.iloc[idx, 1]\n",
        "        if self.transform:\n",
        "            image = self.transform(image)\n",
        "        return image, label"
      ],
      "metadata": {
        "id": "zQT4Os7XLE8a"
      },
      "execution_count": null,
      "outputs": []
    },
    {
      "cell_type": "code",
      "source": [
        "# Reference - https://pytorch.org/tutorials/beginner/blitz/cifar10_tutorial.html\n",
        "# transforming the images to make it model ready.\n",
        "transform = transforms.Compose(\n",
        "    [transforms.ToTensor(),\n",
        "     transforms.Normalize((0.5, 0.5, 0.5), (0.5, 0.5, 0.5))])"
      ],
      "metadata": {
        "id": "Z3uKn5iiovB5"
      },
      "execution_count": null,
      "outputs": []
    },
    {
      "cell_type": "code",
      "source": [
        "train_image_path = \"/content/train\"\n",
        "test_image_path = \"/content/test\"\n",
        "#(self, annotations_file, img_dir, transform=None, target_transform=None):\n",
        "training_data = CustomImageDataset(annotations_file = train_df, img_dir = train_image_path, transform = transform)\n",
        "test_data = CustomImageDataset(annotations_file = test_df,img_dir = test_image_path, transform = transform)\n",
        "\n"
      ],
      "metadata": {
        "id": "M3JNBQs_o79K"
      },
      "execution_count": null,
      "outputs": []
    },
    {
      "cell_type": "code",
      "source": [
        "print(type(training_data))"
      ],
      "metadata": {
        "colab": {
          "base_uri": "https://localhost:8080/"
        },
        "id": "4e4bksdURt2e",
        "outputId": "17d7fe01-2cac-46d2-c0a0-fe07c017f2ba"
      },
      "execution_count": null,
      "outputs": [
        {
          "output_type": "stream",
          "name": "stdout",
          "text": [
            "<class '__main__.CustomImageDataset'>\n"
          ]
        }
      ]
    },
    {
      "cell_type": "code",
      "source": [
        "# Reference - https://pytorch.org/tutorials/beginner/basics/data_tutorial.html\n",
        "trainloader = torch.utils.data.DataLoader(training_data, batch_size=16,shuffle=True, num_workers=2)\n",
        "testloader = torch.utils.data.DataLoader(test_data, batch_size=16,shuffle=False, num_workers=2)"
      ],
      "metadata": {
        "id": "RMrHpUnsQ-DO"
      },
      "execution_count": null,
      "outputs": []
    },
    {
      "cell_type": "code",
      "source": [
        "# Reference - Lab 8\n",
        "print('Training set size (num mini-batches)', len(trainloader))\n",
        "print('Testing set size (num mini-batches)', len(testloader))"
      ],
      "metadata": {
        "colab": {
          "base_uri": "https://localhost:8080/"
        },
        "id": "ckTEeOC6SUQ8",
        "outputId": "44593061-03a4-4e45-eb4f-8455d10d8459"
      },
      "execution_count": null,
      "outputs": [
        {
          "output_type": "stream",
          "name": "stdout",
          "text": [
            "Training set size (num mini-batches) 767\n",
            "Testing set size (num mini-batches) 192\n"
          ]
        }
      ]
    },
    {
      "cell_type": "markdown",
      "source": [
        "Couldn't split the training data into train and validation set. Not sure which functionality of pytorch helps to split the data. Hence, although it is not a good practice to expose the test data to the model, but to chose the best model it is required to test the model using test dataset."
      ],
      "metadata": {
        "id": "7R91o3tnbKGs"
      }
    },
    {
      "cell_type": "code",
      "source": [
        "# Reference - lab 8\n",
        "import matplotlib.pyplot as plt\n",
        "import numpy as np\n",
        "\n",
        "# function to show an image\n",
        "def imshow(img):\n",
        "    img = img / 2 + 0.5     # Unnormalize: back to range [0, 1] just for showing the images\n",
        "    npimg = img.numpy()\n",
        "    plt.imshow(np.transpose(npimg, (1, 2, 0)))     # Reshape: C, H, W -> H, W, C\n",
        "    plt.show()\n",
        "\n",
        "\n",
        "# get some random training images\n",
        "dataiter = iter(trainloader)\n",
        "images, labels = dataiter.next()\n",
        "\n",
        "# show images and print labels\n",
        "imshow(torchvision.utils.make_grid(images))\n",
        "first_labels = [label for label in labels]\n",
        "print('Labels:', first_labels)"
      ],
      "metadata": {
        "colab": {
          "base_uri": "https://localhost:8080/",
          "height": 173
        },
        "id": "rfCPStUv4gCQ",
        "outputId": "d33040de-a4f3-4255-b909-372bc957106c"
      },
      "execution_count": null,
      "outputs": [
        {
          "output_type": "display_data",
          "data": {
            "text/plain": [
              "<Figure size 432x288 with 1 Axes>"
            ],
            "image/png": "[encoded data removed]"
          },
          "metadata": {
            "needs_background": "light"
          }
        },
        {
          "output_type": "stream",
          "name": "stdout",
          "text": [
            "Labels: [tensor(4), tensor(4), tensor(4), tensor(5), tensor(7), tensor(4), tensor(4), tensor(4), tensor(5), tensor(6), tensor(4), tensor(5), tensor(7), tensor(5), tensor(4), tensor(4)]\n"
          ]
        }
      ]
    },
    {
      "cell_type": "code",
      "source": [
        "# Reference - https://www.youtube.com/watch?v=pDdP0TFzsoQ\n",
        "# Reference - Lab 8\n",
        "class Net(nn.Module):\n",
        "    def __init__(self):\n",
        "        super().__init__()\n",
        "        self.conv1 = nn.Conv2d(3, 6, 5) # color channel, i/p, kernel size\n",
        "        self.pool = nn.MaxPool2d(2, 2) # kernel size and stride size\n",
        "        self.conv2 = nn.Conv2d(6, 16, 5) # last i/p , \n",
        "        self.fc1 = nn.Linear(16 * 22 * 22 , 120) # the resulting images keep getting smaller - (w-f + 2P)/S+1, (100-5+0/2)+1 = ~48\n",
        "        self.fc2 = nn.Linear(120, 84)\n",
        "        self.fc3 = nn.Linear(84, 8)\n",
        "\n",
        "    def forward(self, x):\n",
        "        x = self.pool(F.relu(self.conv1(x)))\n",
        "        x = self.pool(F.relu(self.conv2(x)))\n",
        "        x = x.view(x.size(0), 16 * 22 *22)\n",
        "        x = F.relu(self.fc1(x))\n",
        "        x = F.relu(self.fc2(x))\n",
        "        x = self.fc3(x)\n",
        "        return x\n"
      ],
      "metadata": {
        "id": "gMtcXo9Rqzip"
      },
      "execution_count": null,
      "outputs": []
    },
    {
      "cell_type": "code",
      "source": [
        "# # Reference - Lab 8\n",
        "net = Net()\n",
        "\n",
        "# define the loss and the optimizer (needs to be done after moving the network to the GPU!)\n",
        "criterion = nn.CrossEntropyLoss()\n",
        "optimizer = optim.SGD(net.parameters(), lr=0.001, momentum=0.9)\n",
        "print(net)"
      ],
      "metadata": {
        "colab": {
          "base_uri": "https://localhost:8080/"
        },
        "id": "VYY-dZkLD5wu",
        "outputId": "1a60aed2-b567-436b-c2de-c527ae51d692"
      },
      "execution_count": null,
      "outputs": [
        {
          "output_type": "stream",
          "name": "stdout",
          "text": [
            "Net(\n",
            "  (conv1): Conv2d(3, 6, kernel_size=(5, 5), stride=(1, 1))\n",
            "  (pool): MaxPool2d(kernel_size=2, stride=2, padding=0, dilation=1, ceil_mode=False)\n",
            "  (conv2): Conv2d(6, 16, kernel_size=(5, 5), stride=(1, 1))\n",
            "  (fc1): Linear(in_features=7744, out_features=120, bias=True)\n",
            "  (fc2): Linear(in_features=120, out_features=84, bias=True)\n",
            "  (fc3): Linear(in_features=84, out_features=8, bias=True)\n",
            ")\n"
          ]
        }
      ]
    },
    {
      "cell_type": "code",
      "source": [
        "# # Reference - https://www.analyticsvidhya.com/blog/2019/10/building-image-classification-models-cnn-pytorch/\n",
        "# net = Net()\n",
        "# criterion = nn.CrossEntropyLoss().cuda()\n",
        "# optimizer = optim.SGD(net.parameters(), lr=0.001, momentum=0.9)\n",
        "# if torch.cuda.is_available(): ## checking if GPU is available\n",
        "#     net = net.cuda()\n",
        "#     criterion = criterion.cuda()\n",
        "# print(net)"
      ],
      "metadata": {
        "id": "HMGDh5gmFyLZ"
      },
      "execution_count": null,
      "outputs": []
    },
    {
      "cell_type": "code",
      "source": [
        "import time\n",
        "\n",
        "t0 = time.time()\n",
        "\n",
        "for epoch in range(10):  # due to time constraint for this coursework, epoch = 10\n",
        "\n",
        "    running_loss = 0.0\n",
        "    for i, data in enumerate(trainloader, 0):\n",
        "        # get the inputs; data is a list of [inputs, labels]\n",
        "        inputs, labels = data\n",
        "\n",
        "        # zero the parameter gradients\n",
        "        optimizer.zero_grad()\n",
        "\n",
        "        # forward + backward + optimize\n",
        "        outputs = net(inputs)\n",
        "        loss = criterion(outputs, labels)\n",
        "        loss.backward()\n",
        "        optimizer.step()\n",
        "\n",
        "        # print statistics (loss.item() returns the mean loss in the mini-batch)\n",
        "        running_loss += loss.item()\n",
        "        if i % 100 == 0:    # print every 300 mini-batches\n",
        "            print('[%d, %5d] loss: %.3f' %\n",
        "                  (epoch + 1, i + 1, running_loss / 100))\n",
        "            running_loss = 0.0\n",
        "\n",
        "print('Finished Training: total time in seconds =', time.time() - t0)"
      ],
      "metadata": {
        "colab": {
          "base_uri": "https://localhost:8080/"
        },
        "id": "mH06sa615j2n",
        "outputId": "16937fdf-a9ee-4e5a-ba89-bbcfc3060cd8"
      },
      "execution_count": null,
      "outputs": [
        {
          "output_type": "stream",
          "name": "stdout",
          "text": [
            "[1,     1] loss: 0.021\n",
            "[1,   101] loss: 2.014\n",
            "[1,   201] loss: 1.740\n",
            "[1,   301] loss: 1.646\n",
            "[1,   401] loss: 1.632\n",
            "[1,   501] loss: 1.584\n",
            "[1,   601] loss: 1.506\n",
            "[1,   701] loss: 1.448\n",
            "[2,     1] loss: 0.017\n",
            "[2,   101] loss: 1.361\n",
            "[2,   201] loss: 1.327\n",
            "[2,   301] loss: 1.330\n",
            "[2,   401] loss: 1.264\n",
            "[2,   501] loss: 1.273\n",
            "[2,   601] loss: 1.232\n",
            "[2,   701] loss: 1.139\n",
            "[3,     1] loss: 0.010\n",
            "[3,   101] loss: 1.091\n",
            "[3,   201] loss: 1.085\n",
            "[3,   301] loss: 1.057\n",
            "[3,   401] loss: 1.011\n",
            "[3,   501] loss: 1.024\n",
            "[3,   601] loss: 1.028\n",
            "[3,   701] loss: 1.027\n",
            "[4,     1] loss: 0.009\n",
            "[4,   101] loss: 0.958\n",
            "[4,   201] loss: 0.918\n",
            "[4,   301] loss: 0.930\n",
            "[4,   401] loss: 0.981\n",
            "[4,   501] loss: 0.910\n",
            "[4,   601] loss: 0.929\n",
            "[4,   701] loss: 0.887\n",
            "[5,     1] loss: 0.010\n",
            "[5,   101] loss: 0.821\n",
            "[5,   201] loss: 0.867\n",
            "[5,   301] loss: 0.839\n",
            "[5,   401] loss: 0.863\n",
            "[5,   501] loss: 0.821\n",
            "[5,   601] loss: 0.896\n",
            "[5,   701] loss: 0.867\n",
            "[6,     1] loss: 0.005\n",
            "[6,   101] loss: 0.752\n",
            "[6,   201] loss: 0.785\n",
            "[6,   301] loss: 0.788\n",
            "[6,   401] loss: 0.784\n",
            "[6,   501] loss: 0.804\n",
            "[6,   601] loss: 0.797\n",
            "[6,   701] loss: 0.786\n",
            "[7,     1] loss: 0.004\n",
            "[7,   101] loss: 0.739\n",
            "[7,   201] loss: 0.694\n",
            "[7,   301] loss: 0.721\n",
            "[7,   401] loss: 0.702\n",
            "[7,   501] loss: 0.717\n",
            "[7,   601] loss: 0.662\n",
            "[7,   701] loss: 0.762\n",
            "[8,     1] loss: 0.012\n",
            "[8,   101] loss: 0.612\n",
            "[8,   201] loss: 0.642\n",
            "[8,   301] loss: 0.635\n",
            "[8,   401] loss: 0.613\n",
            "[8,   501] loss: 0.676\n",
            "[8,   601] loss: 0.682\n",
            "[8,   701] loss: 0.590\n",
            "[9,     1] loss: 0.007\n",
            "[9,   101] loss: 0.521\n",
            "[9,   201] loss: 0.534\n",
            "[9,   301] loss: 0.519\n",
            "[9,   401] loss: 0.564\n",
            "[9,   501] loss: 0.577\n",
            "[9,   601] loss: 0.571\n",
            "[9,   701] loss: 0.609\n",
            "[10,     1] loss: 0.007\n",
            "[10,   101] loss: 0.458\n",
            "[10,   201] loss: 0.492\n",
            "[10,   301] loss: 0.470\n",
            "[10,   401] loss: 0.492\n",
            "[10,   501] loss: 0.493\n",
            "[10,   601] loss: 0.519\n",
            "[10,   701] loss: 0.497\n",
            "Finished Training: total time in seconds = 498.9361529350281\n"
          ]
        }
      ]
    },
    {
      "cell_type": "code",
      "source": [
        "PATH_net = '/content/drive/MyDrive/Colab Notebooks/Computer Vision/CW_Folder_PG/CW_Folder_PG/Models/Net_model.pt'\n",
        "torch.save(net.state_dict(), PATH_net)"
      ],
      "metadata": {
        "id": "mLQ1XdnV6wHo"
      },
      "execution_count": null,
      "outputs": []
    },
    {
      "cell_type": "code",
      "source": [
        "# Reference - lab 8\n",
        "correct = 0\n",
        "total = 0\n",
        "with torch.no_grad(): # to avoid backprop at test \n",
        "    for data in testloader:\n",
        "        images, labels = data\n",
        "        outputs = net(images)\n",
        "        _, predicted = torch.max(outputs.data, 1)\n",
        "        total += labels.size(0)\n",
        "        correct += (predicted == labels).sum().item()\n",
        "\n",
        "print(f\"Accuracy of the test images: {100 * correct / total}%\")"
      ],
      "metadata": {
        "id": "MaN1tL0r9ZMJ",
        "colab": {
          "base_uri": "https://localhost:8080/"
        },
        "outputId": "cd40bcb4-3577-4995-d4a4-719d25434968"
      },
      "execution_count": null,
      "outputs": [
        {
          "output_type": "stream",
          "name": "stdout",
          "text": [
            "Accuracy of the test images: 68.41590612777054%\n"
          ]
        }
      ]
    },
    {
      "cell_type": "markdown",
      "source": [
        "**AlexNet**"
      ],
      "metadata": {
        "id": "OufnkEhL_lAb"
      }
    },
    {
      "cell_type": "markdown",
      "source": [
        "Using a pretrained model to improve the accuracy. Modified the existing codes slightly to implement the model. These codes were inspired from Lab 8"
      ],
      "metadata": {
        "id": "g4zEXxkD_xxA"
      }
    },
    {
      "cell_type": "code",
      "source": [
        "# Reference - Lab -8, https://analyticsindiamag.com/implementing-alexnet-using-pytorch-as-a-transfer-learning-model-in-multi-class-classification/, \n",
        "# Reference - https://pytorch.org/vision/0.12/models.html?highlight=alexnet\n",
        "transform_Alex = transforms.Compose([\n",
        "    transforms.Resize(256),\n",
        "    transforms.ToTensor(),\n",
        "    transforms.Normalize(mean=[0.485, 0.456, 0.406], std=[0.229, 0.224, 0.225]),\n",
        "])\n"
      ],
      "metadata": {
        "id": "S2y22LFR_3Rg"
      },
      "execution_count": null,
      "outputs": []
    },
    {
      "cell_type": "code",
      "source": [
        "AlexNet_model = models.alexnet(pretrained=True)\n"
      ],
      "metadata": {
        "id": "MVzBbMW5BLrI",
        "colab": {
          "base_uri": "https://localhost:8080/",
          "height": 66,
          "referenced_widgets": [
            "5562b11ac4294787b1051d58e26aec9f",
            "40433d35d2bd45b9aed77158c5618420",
            "5c16936716404eef989d8a868aea0552",
            "bba49a247fec42cebc16b1770f0fb60b",
            "fa92221ce2604835af48c632ce8bf14d",
            "3f9c821814d04db788de0ba2bf739a3c",
            "36c1367de3a34ac8b4a07211e45198b2",
            "b222cdd4c8ec4658ad9b7c07a157efb0",
            "a38e5b77137f4ca0bd21bb079780000a",
            "52c4d4172b804c8bae424604e347af9d",
            "4901de7a0db64d059d128a1beeb9642d"
          ]
        },
        "outputId": "25d7e09a-902e-437e-da85-26f196a73af3"
      },
      "execution_count": null,
      "outputs": [
        {
          "output_type": "stream",
          "name": "stderr",
          "text": [
            "Downloading: \"https://download.pytorch.org/models/alexnet-owt-7be5be79.pth\" to /root/.cache/torch/hub/checkpoints/alexnet-owt-7be5be79.pth\n"
          ]
        },
        {
          "output_type": "display_data",
          "data": {
            "text/plain": [
              "  0%|          | 0.00/233M [00:00<?, ?B/s]"
            ],
            "application/vnd.jupyter.widget-view+json": {
              "version_major": 2,
              "version_minor": 0,
              "model_id": "5562b11ac4294787b1051d58e26aec9f"
            }
          },
          "metadata": {}
        }
      ]
    },
    {
      "cell_type": "code",
      "source": [
        "AlexNet_model.eval()"
      ],
      "metadata": {
        "id": "5_ROYj-nB75G",
        "colab": {
          "base_uri": "https://localhost:8080/"
        },
        "outputId": "a652633b-772b-4cdb-9ee3-eb339b1e3ceb"
      },
      "execution_count": null,
      "outputs": [
        {
          "output_type": "execute_result",
          "data": {
            "text/plain": [
              "AlexNet(\n",
              "  (features): Sequential(\n",
              "    (0): Conv2d(3, 64, kernel_size=(11, 11), stride=(4, 4), padding=(2, 2))\n",
              "    (1): ReLU(inplace=True)\n",
              "    (2): MaxPool2d(kernel_size=3, stride=2, padding=0, dilation=1, ceil_mode=False)\n",
              "    (3): Conv2d(64, 192, kernel_size=(5, 5), stride=(1, 1), padding=(2, 2))\n",
              "    (4): ReLU(inplace=True)\n",
              "    (5): MaxPool2d(kernel_size=3, stride=2, padding=0, dilation=1, ceil_mode=False)\n",
              "    (6): Conv2d(192, 384, kernel_size=(3, 3), stride=(1, 1), padding=(1, 1))\n",
              "    (7): ReLU(inplace=True)\n",
              "    (8): Conv2d(384, 256, kernel_size=(3, 3), stride=(1, 1), padding=(1, 1))\n",
              "    (9): ReLU(inplace=True)\n",
              "    (10): Conv2d(256, 256, kernel_size=(3, 3), stride=(1, 1), padding=(1, 1))\n",
              "    (11): ReLU(inplace=True)\n",
              "    (12): MaxPool2d(kernel_size=3, stride=2, padding=0, dilation=1, ceil_mode=False)\n",
              "  )\n",
              "  (avgpool): AdaptiveAvgPool2d(output_size=(6, 6))\n",
              "  (classifier): Sequential(\n",
              "    (0): Dropout(p=0.5, inplace=False)\n",
              "    (1): Linear(in_features=9216, out_features=4096, bias=True)\n",
              "    (2): ReLU(inplace=True)\n",
              "    (3): Dropout(p=0.5, inplace=False)\n",
              "    (4): Linear(in_features=4096, out_features=4096, bias=True)\n",
              "    (5): ReLU(inplace=True)\n",
              "    (6): Linear(in_features=4096, out_features=1000, bias=True)\n",
              "  )\n",
              ")"
            ]
          },
          "metadata": {},
          "execution_count": 22
        }
      ]
    },
    {
      "cell_type": "code",
      "source": [
        "criterion = nn.CrossEntropyLoss().cuda()\n",
        "\n",
        "optimizer_Alex = optim.SGD(AlexNet_model.parameters(), lr=0.001, momentum=0.9)"
      ],
      "metadata": {
        "id": "SrjNHu-YCBGv"
      },
      "execution_count": null,
      "outputs": []
    },
    {
      "cell_type": "code",
      "source": [
        "for epoch in range(10):\n",
        "    for i, (images, labels) in enumerate(trainloader):\n",
        "            AlexNet_model = AlexNet_model.cuda()\n",
        "\n",
        "            optimizer_Alex.zero_grad()\n",
        "            outputs = AlexNet_model(images.cuda())\n",
        "            alex_loss = criterion(outputs.cuda(), labels.cuda())\n",
        "            alex_loss.backward()\n",
        "            optimizer_Alex.step()\n",
        "\n",
        "            if i % 100 == 0:\n",
        "                print(\"Loss: {} \".format(alex_loss.data))\n",
        "                #print('[%d, %5d] loss: %.3f VGG16 Accuracy: %.3f' %(epoch + 1, i + 1, vgg_loss.data,vgg_accuracy ))"
      ],
      "metadata": {
        "colab": {
          "base_uri": "https://localhost:8080/"
        },
        "id": "_GgmHE-Pztek",
        "outputId": "cb7e096a-b864-4d37-f97e-529853dfc98b"
      },
      "execution_count": null,
      "outputs": [
        {
          "output_type": "stream",
          "name": "stdout",
          "text": [
            "Loss: 15.763082504272461 \n",
            "Loss: 1.5943148136138916 \n",
            "Loss: 1.456886649131775 \n",
            "Loss: 1.1791203022003174 \n",
            "Loss: 0.9795221090316772 \n",
            "Loss: 0.9155632853507996 \n",
            "Loss: 0.6989454627037048 \n",
            "Loss: 0.6780688762664795 \n",
            "Loss: 1.1454875469207764 \n",
            "Loss: 0.9996851682662964 \n",
            "Loss: 0.9872548580169678 \n",
            "Loss: 0.7565221786499023 \n",
            "Loss: 1.2037107944488525 \n",
            "Loss: 1.3448768854141235 \n",
            "Loss: 0.37167924642562866 \n",
            "Loss: 0.9218406677246094 \n",
            "Loss: 0.9050192832946777 \n",
            "Loss: 0.582157552242279 \n",
            "Loss: 0.7637956142425537 \n",
            "Loss: 1.3982751369476318 \n",
            "Loss: 0.45604848861694336 \n",
            "Loss: 0.6196199655532837 \n",
            "Loss: 0.6404497623443604 \n",
            "Loss: 0.423022985458374 \n",
            "Loss: 0.36346253752708435 \n",
            "Loss: 0.29557958245277405 \n",
            "Loss: 0.5554789304733276 \n",
            "Loss: 0.6506584882736206 \n",
            "Loss: 0.38325318694114685 \n",
            "Loss: 1.012878179550171 \n",
            "Loss: 0.6709581613540649 \n",
            "Loss: 0.6666024923324585 \n",
            "Loss: 0.6350919008255005 \n",
            "Loss: 0.5130730271339417 \n",
            "Loss: 0.3993798494338989 \n",
            "Loss: 0.7478227019309998 \n",
            "Loss: 0.20490692555904388 \n",
            "Loss: 0.5931323766708374 \n",
            "Loss: 0.24845042824745178 \n",
            "Loss: 0.5658366680145264 \n",
            "Loss: 0.07451789081096649 \n",
            "Loss: 0.4087134003639221 \n",
            "Loss: 0.3803417682647705 \n",
            "Loss: 0.40058308839797974 \n",
            "Loss: 0.8268437385559082 \n",
            "Loss: 0.49553146958351135 \n",
            "Loss: 0.896375834941864 \n",
            "Loss: 0.23423050343990326 \n",
            "Loss: 0.6796049475669861 \n",
            "Loss: 0.15066924691200256 \n",
            "Loss: 0.08060258626937866 \n",
            "Loss: 0.2603074610233307 \n",
            "Loss: 0.6709601283073425 \n",
            "Loss: 0.29730650782585144 \n",
            "Loss: 0.3418506383895874 \n",
            "Loss: 0.4972752630710602 \n",
            "Loss: 0.23408383131027222 \n",
            "Loss: 0.2456747144460678 \n",
            "Loss: 0.2625972628593445 \n",
            "Loss: 0.1408456563949585 \n",
            "Loss: 0.11985331028699875 \n",
            "Loss: 0.030853552743792534 \n",
            "Loss: 0.520993173122406 \n",
            "Loss: 0.6094715595245361 \n",
            "Loss: 0.41849687695503235 \n",
            "Loss: 0.3145690858364105 \n",
            "Loss: 0.028545301407575607 \n",
            "Loss: 0.3018951714038849 \n",
            "Loss: 0.190116748213768 \n",
            "Loss: 0.22245483100414276 \n",
            "Loss: 0.17918163537979126 \n",
            "Loss: 0.43746504187583923 \n",
            "Loss: 0.2830687165260315 \n",
            "Loss: 0.13477441668510437 \n",
            "Loss: 0.6038394570350647 \n",
            "Loss: 0.15178124606609344 \n",
            "Loss: 0.6110663414001465 \n",
            "Loss: 0.12038370966911316 \n",
            "Loss: 0.28448063135147095 \n",
            "Loss: 0.06517593562602997 \n"
          ]
        }
      ]
    },
    {
      "cell_type": "code",
      "source": [
        "import pickle\n",
        "\n",
        "with open(\"/content/drive/My Drive/Colab Notebooks/Computer Vision/CW_Folder_PG/CW_Folder_PG/Models/AlexNet_model.pickle\", \"wb\") as a:\n",
        "    pickle.dump(AlexNet_model, a)"
      ],
      "metadata": {
        "id": "PWUNGQxGkEA_"
      },
      "execution_count": null,
      "outputs": []
    },
    {
      "cell_type": "code",
      "source": [
        "correct = 0\n",
        "total = 0\n",
        "with torch.no_grad():\n",
        "  for i, (images, labels) in enumerate(testloader):\n",
        "\n",
        "      outputs = AlexNet_model(images.cuda())\n",
        "      _, predicted = torch.max(outputs.data, 1)\n",
        "      total += len(labels)\n",
        "      correct += (predicted == labels.cuda()).sum()\n",
        "alex_accuracy = 100 * correct / float(total)\n",
        "print(\"Accuracy: {} % \".format(alex_accuracy))"
      ],
      "metadata": {
        "id": "ywrNl9uaCxhm",
        "colab": {
          "base_uri": "https://localhost:8080/"
        },
        "outputId": "1a75c5e4-3bf2-45f8-d45d-9e43e12fd0dd"
      },
      "execution_count": null,
      "outputs": [
        {
          "output_type": "stream",
          "name": "stdout",
          "text": [
            "Accuracy: 75.22815704345703 % \n"
          ]
        }
      ]
    },
    {
      "cell_type": "markdown",
      "source": [
        "The accuracy has increased."
      ],
      "metadata": {
        "id": "awSoc_gu5MVs"
      }
    },
    {
      "cell_type": "markdown",
      "source": [
        "**VGG16 Model**"
      ],
      "metadata": {
        "id": "8qg3vVzJkxCJ"
      }
    },
    {
      "cell_type": "code",
      "source": [
        "VGG16_model = models.vgg16(pretrained = True)\n",
        "criterion = nn.CrossEntropyLoss().cuda()\n",
        "optimizer_vgg = optim.SGD(VGG16_model.parameters(), lr=0.001, momentum=0.9)"
      ],
      "metadata": {
        "id": "S-o7zCTqDICF",
        "colab": {
          "base_uri": "https://localhost:8080/",
          "height": 66,
          "referenced_widgets": [
            "dd690b8a8e744a43b167923e1c54027c",
            "be9c62dc2af34aef8a174868d7cc5051",
            "bffbc1b6dfe841ff8dc02ef5f344d160",
            "54ced09a19754d4a9ed0453ca23e18de",
            "880096f183ed45419016b70026c5a0bc",
            "bd07a01409844cf2ad0bc54fb7d6dc82",
            "6af2af1ccb4d43a5adf4df747fb5e29b",
            "39557990f4b8454e8431aedf158e7642",
            "1d27257cc3be46ff99ca88ac9404d421",
            "87dbb4f19d4747e5a82bc75462a05ca1",
            "acc416a2f3494b78b98ed82885421f84"
          ]
        },
        "outputId": "3df1ccac-77d5-44d6-b892-36a2ab968953"
      },
      "execution_count": null,
      "outputs": [
        {
          "output_type": "stream",
          "name": "stderr",
          "text": [
            "Downloading: \"https://download.pytorch.org/models/vgg16-397923af.pth\" to /root/.cache/torch/hub/checkpoints/vgg16-397923af.pth\n"
          ]
        },
        {
          "output_type": "display_data",
          "data": {
            "text/plain": [
              "  0%|          | 0.00/528M [00:00<?, ?B/s]"
            ],
            "application/vnd.jupyter.widget-view+json": {
              "version_major": 2,
              "version_minor": 0,
              "model_id": "dd690b8a8e744a43b167923e1c54027c"
            }
          },
          "metadata": {}
        }
      ]
    },
    {
      "cell_type": "code",
      "source": [
        "transform_vgg =   transforms.Compose([\n",
        "        transforms.ToTensor(),\n",
        "        transforms.Normalize((0.485, 0.456, 0.406), (0.229, 0.224, 0.225))\n",
        "])"
      ],
      "metadata": {
        "id": "452e43-TlCZP"
      },
      "execution_count": null,
      "outputs": []
    },
    {
      "cell_type": "code",
      "source": [
        "t0 = time.time()\n",
        "for epoch in range(10):\n",
        "    for i, (images, labels) in enumerate(trainloader):\n",
        "            VGG16_model = VGG16_model.cuda()\n",
        "\n",
        "            optimizer_vgg.zero_grad()\n",
        "            outputs = VGG16_model(images.cuda())\n",
        "            vgg_loss = criterion(outputs.cuda(), labels.cuda())\n",
        "            vgg_loss.backward()\n",
        "            optimizer_vgg.step()\n",
        "\n",
        "            if i % 100 == 0:\n",
        "                print(\"Loss: {} \".format(vgg_loss.data))\n",
        "print('Finished Training of VGG16: total time in seconds =', time.time() - t0)\n"
      ],
      "metadata": {
        "colab": {
          "base_uri": "https://localhost:8080/"
        },
        "id": "5hzkhWPXv_LO",
        "outputId": "a0a26aa5-034c-413d-bfdc-e65208576f07"
      },
      "execution_count": null,
      "outputs": [
        {
          "output_type": "stream",
          "name": "stdout",
          "text": [
            "Loss: 0.0797421783208847 \n",
            "Loss: 0.003823202336207032 \n",
            "Loss: 0.005825715139508247 \n",
            "Loss: 0.016498226672410965 \n",
            "Loss: 0.015418185852468014 \n",
            "Loss: 0.0004296476545277983 \n",
            "Loss: 0.006015249993652105 \n",
            "Loss: 0.22601693868637085 \n",
            "Loss: 0.1129249855875969 \n",
            "Loss: 0.010044578462839127 \n",
            "Loss: 0.08010490238666534 \n",
            "Loss: 0.004422755446285009 \n",
            "Loss: 0.05131450667977333 \n",
            "Loss: 0.13018818199634552 \n",
            "Loss: 0.0016135555924847722 \n",
            "Loss: 0.012055394239723682 \n",
            "Loss: 0.005000676494091749 \n",
            "Loss: 0.0014264286728575826 \n",
            "Loss: 0.0005823475657962263 \n",
            "Loss: 0.0010311437072232366 \n",
            "Loss: 0.015604519285261631 \n",
            "Loss: 0.1614893078804016 \n",
            "Loss: 0.0014447105349972844 \n",
            "Loss: 0.008684389293193817 \n",
            "Loss: 0.0005187851493246853 \n",
            "Loss: 0.002250004792585969 \n",
            "Loss: 0.08881960064172745 \n",
            "Loss: 0.0011496018851175904 \n",
            "Loss: 0.004198542330414057 \n",
            "Loss: 0.10700267553329468 \n",
            "Loss: 0.012628620490431786 \n",
            "Loss: 0.18580415844917297 \n",
            "Loss: 0.021822907030582428 \n",
            "Loss: 0.00016469834372401237 \n",
            "Loss: 0.0005036829970777035 \n",
            "Loss: 0.01876736432313919 \n",
            "Loss: 0.007059286814182997 \n",
            "Loss: 0.009087068028748035 \n",
            "Loss: 0.04212888702750206 \n",
            "Loss: 0.001155551173724234 \n",
            "Loss: 0.005380133166909218 \n",
            "Loss: 0.02851164899766445 \n",
            "Loss: 0.0016053295694291592 \n",
            "Loss: 0.03875603899359703 \n",
            "Loss: 0.00306921498849988 \n",
            "Loss: 0.013687645085155964 \n",
            "Loss: 0.11504120379686356 \n",
            "Loss: 0.013370734639465809 \n",
            "Loss: 1.6322434021276422e-05 \n",
            "Loss: 0.0017263207118958235 \n",
            "Loss: 0.006218323949724436 \n",
            "Loss: 0.0012161568738520145 \n",
            "Loss: 0.003071671351790428 \n",
            "Loss: 0.0003302695113234222 \n",
            "Loss: 0.0011788808042183518 \n",
            "Loss: 0.009433552622795105 \n",
            "Loss: 0.005386014003306627 \n",
            "Loss: 0.0015473123639822006 \n",
            "Loss: 0.0025217521470040083 \n",
            "Loss: 0.02895338088274002 \n",
            "Loss: 6.256562483031303e-05 \n",
            "Loss: 0.008315209299325943 \n",
            "Loss: 0.11149805039167404 \n",
            "Loss: 0.2143285572528839 \n",
            "Loss: 0.07660070806741714 \n",
            "Loss: 0.030443890020251274 \n",
            "Loss: 0.0016038522589951754 \n",
            "Loss: 0.007197547238320112 \n",
            "Loss: 0.007488849572837353 \n",
            "Loss: 0.0008026872528716922 \n",
            "Loss: 0.021211571991443634 \n",
            "Loss: 0.00040056463330984116 \n",
            "Loss: 0.0003585911763366312 \n",
            "Loss: 0.00024344981648027897 \n",
            "Loss: 0.013314233161509037 \n",
            "Loss: 0.03739858418703079 \n",
            "Loss: 0.03540552407503128 \n",
            "Loss: 0.215976744890213 \n",
            "Loss: 0.03179359808564186 \n",
            "Loss: 0.023612527176737785 \n",
            "Finished Training of VGG16: total time in seconds = 393.9186489582062\n"
          ]
        }
      ]
    },
    {
      "cell_type": "code",
      "source": [
        "import pickle\n",
        "\n",
        "with open(\"/content/drive/My Drive/Colab Notebooks/Computer Vision/CW_Folder_PG/CW_Folder_PG/Models/VGG_model.pickle\", \"wb\") as f:\n",
        "    pickle.dump(VGG16_model, f)"
      ],
      "metadata": {
        "id": "ZPYq92-JowVw"
      },
      "execution_count": null,
      "outputs": []
    },
    {
      "cell_type": "code",
      "source": [
        "correct = 0\n",
        "total = 0\n",
        "with torch.no_grad():\n",
        "  for i, (images, labels) in enumerate(testloader):\n",
        "\n",
        "      outputs = VGG16_model(images.cuda())\n",
        "      _, predicted = torch.max(outputs.data, 1)\n",
        "      total += len(labels)\n",
        "      correct += (predicted == labels.cuda()).sum()\n",
        "vgg_accuracy = 100 * correct / float(total)\n",
        "print(\"Accuracy: {} % \".format(vgg_accuracy))\n",
        "#print('Accuracy of the network on the test images using Vgg16: %d %%' % vgg_accuracy)"
      ],
      "metadata": {
        "colab": {
          "base_uri": "https://localhost:8080/"
        },
        "id": "IMB1wB1PxIeC",
        "outputId": "9a40245c-c936-41e0-e7f6-8537e53c0382"
      },
      "execution_count": null,
      "outputs": [
        {
          "output_type": "stream",
          "name": "stdout",
          "text": [
            "Accuracy: 81.4863052368164 % \n"
          ]
        }
      ]
    },
    {
      "cell_type": "markdown",
      "source": [
        "This model has provided the best accuracy."
      ],
      "metadata": {
        "id": "gMYZiYTb5Rlk"
      }
    }
  ]
}